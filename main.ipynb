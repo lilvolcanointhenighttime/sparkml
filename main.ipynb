{
 "cells": [
  {
   "cell_type": "code",
   "execution_count": 1,
   "id": "b11df160-7f54-49cb-a92c-c513d610c92e",
   "metadata": {},
   "outputs": [
    {
     "name": "stdout",
     "output_type": "stream",
     "text": [
      "+---+---+-----+----+----+---+-----+-----+----+---------+\n",
      "|one|two|three|four|five|si1|seven|eight|nine|Condition|\n",
      "+---+---+-----+----+----+---+-----+-----+----+---------+\n",
      "|  1|  1|    1|   1|   0|  0|    1|    0|   0|        1|\n",
      "|  1|  1|    1|   1|   0|  0|    0|    1|   0|        1|\n",
      "|  1|  1|    1|   1|   0|  0|    0|    0|   1|        1|\n",
      "|  1|  1|    1|   1|   0|  0|    0|    3|   3|        1|\n",
      "|  1|  1|    1|   1|   0|  0|    3|    0|   3|        1|\n",
      "|  1|  1|    1|   1|   0|  0|    3|    3|   0|        1|\n",
      "|  1|  1|    1|   1|   0|  3|    0|    0|   3|        1|\n",
      "|  1|  1|    1|   1|   0|  3|    0|    3|   0|        1|\n",
      "|  1|  1|    1|   1|   0|  3|    3|    0|   0|        1|\n",
      "|  1|  1|    1|   1|   3|  0|    0|    0|   3|        1|\n",
      "+---+---+-----+----+----+---+-----+-----+----+---------+\n",
      "only showing top 10 rows\n",
      "\n",
      "+---+---+-----+----+----+---+-----+-----+----+---------+---------------+\n",
      "|one|two|three|four|five|si1|seven|eight|nine|Condition|Condition_index|\n",
      "+---+---+-----+----+----+---+-----+-----+----+---------+---------------+\n",
      "|  1|  1|    1|   1|   0|  0|    1|    0|   0|        1|            0.0|\n",
      "|  1|  1|    1|   1|   0|  0|    0|    1|   0|        1|            0.0|\n",
      "|  1|  1|    1|   1|   0|  0|    0|    0|   1|        1|            0.0|\n",
      "|  1|  1|    1|   1|   0|  0|    0|    3|   3|        1|            0.0|\n",
      "|  1|  1|    1|   1|   0|  0|    3|    0|   3|        1|            0.0|\n",
      "|  1|  1|    1|   1|   0|  0|    3|    3|   0|        1|            0.0|\n",
      "|  1|  1|    1|   1|   0|  3|    0|    0|   3|        1|            0.0|\n",
      "|  1|  1|    1|   1|   0|  3|    0|    3|   0|        1|            0.0|\n",
      "|  1|  1|    1|   1|   0|  3|    3|    0|   0|        1|            0.0|\n",
      "|  1|  1|    1|   1|   3|  0|    0|    0|   3|        1|            0.0|\n",
      "+---+---+-----+----+----+---+-----+-----+----+---------+---------------+\n",
      "only showing top 10 rows\n",
      "\n"
     ]
    }
   ],
   "source": [
    "from pyspark.sql import SparkSession\n",
    "\n",
    "from pyspark.sql.functions import *\n",
    "from pyspark.ml.feature import VectorAssembler\n",
    "from pyspark.sql.types import *\n",
    "from pyspark.ml.evaluation import MulticlassClassificationEvaluator\n",
    "from pyspark.ml.feature import StringIndexer\n",
    "\n",
    "\n",
    "spark = SparkSession.builder.appName(\"PySparkFashionMNIST\").getOrCreate()\n",
    "\n",
    "# Load test data\n",
    "trainDF =  spark.read.csv(\"hdfs://namenode:9000/data/TicTacToe.csv\", header = True)\n",
    "trainDF = trainDF.select([col(column).cast(IntegerType()).alias(column) for column in trainDF.columns])\n",
    "trainDF.show(10)\n",
    "label_index = StringIndexer(inputCol=\"Condition\", outputCol=\"Condition_index\")\n",
    "trainDF = label_index.fit(trainDF).transform(trainDF)\n",
    "trainDF.show(10)\n",
    "\n",
    "\n"
   ]
  },
  {
   "cell_type": "code",
   "execution_count": 2,
   "id": "553f912a-76be-4232-89ca-c61ae7679d8b",
   "metadata": {},
   "outputs": [
    {
     "name": "stdout",
     "output_type": "stream",
     "text": [
      "+---------------+--------------------+\n",
      "|Condition_index|            features|\n",
      "+---------------+--------------------+\n",
      "|            0.0|(10,[0,1,2,3,6],[...|\n",
      "|            0.0|(10,[0,1,2,3,7],[...|\n",
      "|            0.0|(10,[0,1,2,3,8],[...|\n",
      "|            0.0|[1.0,1.0,1.0,1.0,...|\n",
      "|            0.0|[1.0,1.0,1.0,1.0,...|\n",
      "|            0.0|[1.0,1.0,1.0,1.0,...|\n",
      "|            0.0|[1.0,1.0,1.0,1.0,...|\n",
      "|            0.0|[1.0,1.0,1.0,1.0,...|\n",
      "|            0.0|[1.0,1.0,1.0,1.0,...|\n",
      "|            0.0|[1.0,1.0,1.0,1.0,...|\n",
      "+---------------+--------------------+\n",
      "only showing top 10 rows\n",
      "\n"
     ]
    }
   ],
   "source": [
    "selected_cols = [col_name for col_name in trainDF.columns if col_name != \"Condition\"]\n",
    "\n",
    "# # Создание вектора признаков\n",
    "assembler = VectorAssembler(inputCols=selected_cols, outputCol=\"features\")\n",
    "trainDF_vector = assembler.transform(trainDF)\n",
    "\n",
    "trainDF_vector = trainDF_vector.select(\"Condition_index\", \"features\")\n",
    "trainDF_vector.show(10)"
   ]
  },
  {
   "cell_type": "code",
   "execution_count": 3,
   "id": "09bdb4a6-9503-451e-a453-9db10c0dd0ab",
   "metadata": {},
   "outputs": [
    {
     "name": "stdout",
     "output_type": "stream",
     "text": [
      "+----------+---------------+--------------------+\n",
      "|prediction|Condition_index|            features|\n",
      "+----------+---------------+--------------------+\n",
      "|       0.0|            0.0|(10,[0,1,2,3,8],[...|\n",
      "|       0.0|            0.0|(10,[0,1,2,5,6],[...|\n",
      "|       0.0|            0.0|(10,[0,1,2,5,8],[...|\n",
      "|       0.0|            0.0|(10,[0,1,4,5,8],[...|\n",
      "|       0.0|            0.0|(10,[0,2,4,5,6],[...|\n",
      "+----------+---------------+--------------------+\n",
      "only showing top 5 rows\n",
      "\n",
      "Gradient-boosted tree classifier [Accuracy] = 1\n",
      "Gradient-boosted tree classifier [Error] = 0 \n"
     ]
    }
   ],
   "source": [
    "(training_data, test_data) = trainDF_vector.randomSplit([0.8, 0.2],seed = 42)\n",
    "\n",
    "evaluator = MulticlassClassificationEvaluator(labelCol=\"Condition_index\", predictionCol=\"prediction\", metricName=\"accuracy\")\n",
    "\n",
    "from pyspark.ml.classification import GBTClassifier\n",
    "gbt = GBTClassifier(labelCol=\"Condition_index\", featuresCol=\"features\")\n",
    "gbt_model = gbt.fit(training_data)\n",
    "gbt_prediction = gbt_model.transform(test_data)\n",
    "\n",
    "gbt_prediction.select(\"prediction\", \"Condition_index\", \"features\").show(5)\n",
    "gbt_accuracy = evaluator.evaluate(gbt_prediction)\n",
    "print(\"Gradient-boosted tree classifier [Accuracy] = %g\"% (gbt_accuracy))\n",
    "print(\"Gradient-boosted tree classifier [Error] = %g \" % (1.0 - gbt_accuracy))"
   ]
  },
  {
   "cell_type": "code",
   "execution_count": 4,
   "id": "39f769b0-ad41-44ef-961b-bf60779a3599",
   "metadata": {},
   "outputs": [
    {
     "name": "stdout",
     "output_type": "stream",
     "text": [
      "+---------------+--------------------+\n",
      "|Condition_index|            features|\n",
      "+---------------+--------------------+\n",
      "|            0.0|(10,[0,1,2,3,6],[...|\n",
      "|            0.0|(10,[0,1,2,3,7],[...|\n",
      "|            0.0|(10,[0,1,2,3,8],[...|\n",
      "|            0.0|[1.0,1.0,1.0,1.0,...|\n",
      "|            0.0|[1.0,1.0,1.0,1.0,...|\n",
      "|            0.0|[1.0,1.0,1.0,1.0,...|\n",
      "|            0.0|[1.0,1.0,1.0,1.0,...|\n",
      "|            0.0|[1.0,1.0,1.0,1.0,...|\n",
      "|            0.0|[1.0,1.0,1.0,1.0,...|\n",
      "|            0.0|[1.0,1.0,1.0,1.0,...|\n",
      "+---------------+--------------------+\n",
      "only showing top 10 rows\n",
      "\n",
      "+---------------+----------+\n",
      "|Condition_index|prediction|\n",
      "+---------------+----------+\n",
      "|            0.0|       0.0|\n",
      "|            0.0|       0.0|\n",
      "|            0.0|       0.0|\n",
      "|            0.0|       0.0|\n",
      "|            0.0|       0.0|\n",
      "|            0.0|       0.0|\n",
      "|            0.0|       0.0|\n",
      "|            0.0|       0.0|\n",
      "|            0.0|       0.0|\n",
      "|            0.0|       0.0|\n",
      "+---------------+----------+\n",
      "only showing top 10 rows\n",
      "\n",
      "Gradient-boosted tree classifier [Accuracy] = 1\n",
      "Gradient-boosted tree classifier [Error] = 0 \n"
     ]
    }
   ],
   "source": [
    "turnsDF =  spark.read.csv(\"hdfs://namenode:9000/data/turns.csv\", header = True)\n",
    "turnsDF = trainDF.select([col(column).cast(IntegerType()).alias(column) for column in turnsDF.columns])\n",
    "label_index = StringIndexer(inputCol=\"Condition\", outputCol=\"Condition_index\")\n",
    "turnsDF = label_index.fit(turnsDF).transform(turnsDF)\n",
    "\n",
    "selected_cols = [col_name for col_name in turnsDF.columns if col_name != \"Condition\"]\n",
    "\n",
    "# # Создание вектора признаков\n",
    "assembler = VectorAssembler(inputCols=selected_cols, outputCol=\"features\")\n",
    "turnsDF_vector = assembler.transform(turnsDF)\n",
    "\n",
    "turnsDF_vector = turnsDF_vector.select(\"Condition_index\", \"features\")\n",
    "turnsDF_vector.show(10)\n",
    "\n",
    "prediction = gbt_model.transform(turnsDF_vector)\n",
    "prediction.select(\"Condition_index\", \"prediction\").show(10)\n",
    "\n",
    "prediction_accuracy = evaluator.evaluate(prediction)\n",
    "print(\"Gradient-boosted tree classifier [Accuracy] = %g\"% (prediction_accuracy))\n",
    "print(\"Gradient-boosted tree classifier [Error] = %g \" % (1.0 - prediction_accuracy))"
   ]
  },
  {
   "cell_type": "code",
   "execution_count": null,
   "id": "24eab061-d848-4686-a8ec-11ef35ea9377",
   "metadata": {},
   "outputs": [],
   "source": []
  }
 ],
 "metadata": {
  "kernelspec": {
   "display_name": "Python 3 (ipykernel)",
   "language": "python",
   "name": "python3"
  },
  "language_info": {
   "codemirror_mode": {
    "name": "ipython",
    "version": 3
   },
   "file_extension": ".py",
   "mimetype": "text/x-python",
   "name": "python",
   "nbconvert_exporter": "python",
   "pygments_lexer": "ipython3",
   "version": "3.11.6"
  }
 },
 "nbformat": 4,
 "nbformat_minor": 5
}
